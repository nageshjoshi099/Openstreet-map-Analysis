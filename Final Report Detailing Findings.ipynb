{
 "cells": [
  {
   "cell_type": "markdown",
   "metadata": {},
   "source": [
    "# OpenStreetMap case study\n",
    "\n",
    "The area that I have chosen for this particular case study is my home city of Mumbai. The data was obtained from the follwing source: https://mapzen.com/data/metro-extracts/metro/mumbai_india/\n",
    "\n",
    "A smaller sample was used was extratced from this huge file (>400 MB) to ensure smoother and faster processing on local system, the python code was also validated against this smaller sample. This document describes the problems that the dataset pocesses and how I managed to navigate across the various problems. It also gives a detailed overview of the data and finally presents the reader with exciting findings about the Mumbai city"
   ]
  },
  {
   "cell_type": "code",
   "execution_count": 146,
   "metadata": {
    "collapsed": true
   },
   "outputs": [],
   "source": [
    "import sqlite3\n",
    "import os\n",
    "import pandas as pd\n",
    "db = sqlite3.connect(\"Mumbai\")\n",
    "c = db.cursor()"
   ]
  },
  {
   "cell_type": "markdown",
   "metadata": {},
   "source": [
    "## Problems encountered in the map\n",
    "\n",
    "* PROBLEM 1: Difference in k values for tags of postal code:\n",
    "\n",
    "    ```xml\n",
    "      <tag k=\"addr:postcode\" v=\"400005\" /> \n",
    "      <tag k=\"postal_code\" v=\"410205\" />\n",
    "    ```\n",
    "* PROBLEM 2: Inconsistent format of postal codes\n",
    "\n",
    "    ```xml\n",
    "       <tag k=\"addr:postcode\" v=\"400 071\" />\n",
    "       <tag k=\"addr:postcode\" v=\"400018\" />\n",
    "    ```\n",
    "\n",
    "* PROBLEM 3: Postal codes out of the range. Codes of the Mumbai region begin with 4 and are of length 6. However, some postal codes outside of this range creeped into the dataset\n",
    "\n",
    "    ```xml\n",
    "       <tag k=\"addr:postcode\" v=\"500053\" />\n",
    "       <tag k=\"addr:postcode\" v=\"40049\" /> \n",
    "    ```\n",
    "    \n",
    "* PROBLEM 4: Cleaning of the value for k=city. The city name has been pronounced in a number of different ways, at times smaller provinces within Mumbai has been substitued for the city name or at time Mumbai has been spelt incorrectly, these have been cleaned so that only Mumbai appears as the city name. However, even after cleaning the city values we find the inclusion of data from the sourrounding parts of Mumbai City\n",
    "\n",
    "\n",
    "\n",
    "* PROBLEM 5: Difference in sources of data\n",
    "\n",
    "    ```sql\n",
    "       SELECT DISTINCT tags.value\n",
    "       FROM (SELECT key, value FROM nodes_tags UNION SELECT key, value FROM ways_tags) tags\n",
    "       WHERE tags.key = \"source\"\n",
    "       LIMIT 10; \n",
    "    ```\n",
    "    \n",
    "The following shows the output of 10 differnt sources of data in python. This problem is mentioned to make the readers realize the wide array of data sources and thus to be vigilant when using this data. An unscrupulous data source can lead to incorrect conclusions."
   ]
  },
  {
   "cell_type": "code",
   "execution_count": 147,
   "metadata": {
    "collapsed": false
   },
   "outputs": [
    {
     "data": {
      "text/plain": [
       "[(u'402',),\n",
       " (u'502,504,353',),\n",
       " (u'AND',),\n",
       " (u'AND;PGS',),\n",
       " (u'AND;US NGA Pub. 112. 2009-11-12.',),\n",
       " (u'Autooptions',),\n",
       " (u'BEST',),\n",
       " (u'Bing',),\n",
       " (u'Chembur',),\n",
       " (u'GNS',)]"
      ]
     },
     "execution_count": 147,
     "metadata": {},
     "output_type": "execute_result"
    }
   ],
   "source": [
    "query1 = '''\n",
    "    SELECT DISTINCT tags.value\n",
    "    FROM (SELECT key, value FROM nodes_tags UNION SELECT key, value FROM ways_tags) tags\n",
    "    WHERE tags.key = \"source\"\n",
    "    LIMIT 10;\n",
    "    '''\n",
    "c.execute(query1)\n",
    "c.fetchall()"
   ]
  },
  {
   "cell_type": "markdown",
   "metadata": {},
   "source": [
    "## The postal code problems\n",
    "* The key identity of any area in a city like Mumbai is considered to be its postal code. Thus it was vital that the postal code for the various areas be cleaned first. The k value, for the child tags of nodes, for postal code was normalized to \"addr:postalcode\" resloving problem 1\n",
    "* The postal code values themselves were standardized by removing unwanted spaces between them, i.e. a postal code value of \"400 071\" was transformmed to 400071 resolving problem 2\n",
    "* However, for codes which were incorrectly included in the dataset no, cleaning was done. Yet, a word of caution is provided to the readers making them aware of such anomalies existing in the data\n",
    "\n",
    "The below part of the code of the **get_element()** fucntion summarizes the cleaning process for the postal code problems"
   ]
  },
  {
   "cell_type": "markdown",
   "metadata": {},
   "source": [
    "```python\n",
    "   def get_element(osm_file, tags=('node', 'way', 'relation')):\n",
    "    context = ET.iterparse(osm_file, events=('start', 'end'))\n",
    "    _, root = next(context)\n",
    "    for event, elem in context:\n",
    "        for child in elem:\n",
    "            if child.tag == \"tag\" and (child.attrib[\"k\"] == \"postal_code\" or child.attrib[\"k\"] == \"addr:postcode\"):\n",
    "                child.attrib[\"k\"] = \"addr:postcode\"\n",
    "                temp = child.attrib[\"v\"].split()\n",
    "                if len(temp)>1:\n",
    "                    child.attrib[\"v\"] = \"\".join(temp)\n",
    "```"
   ]
  },
  {
   "cell_type": "markdown",
   "metadata": {},
   "source": [
    "## Surrounding area problem\n",
    "The city values were cleaned again with the **get_element()** function, the part of the code doing the required job is as follows:\n",
    "\n",
    "```python\n",
    "    def get_element(osm_file, tags=('node', 'way', 'relation')):\n",
    "    context = ET.iterparse(osm_file, events=('start', 'end'))\n",
    "    _, root = next(context)\n",
    "    for event, elem in context:\n",
    "        for child in elem:\n",
    "            if child.attrib[\"k\"] == \"city\" and child.attrib[\"v\"] in unwanted_cities_list:\n",
    "                child.attrib[\"v\"] == \"Mumbai\"\n",
    "```\n",
    "To clear the suspision of the inclusion of surrounding areas in the dataset consider the following query and the its python application to the see the output, the output clearly shows that a number of number of surrounding areas including the Thane and Navi Mumbai suburban areas are included in the dataset. (The areas of Kharghar and Swawoods are smaller provinces in Navi Mumbai).\n",
    "\n",
    "```sql\n",
    "   SELECT DISTINCT tags.value, COUNT(tags.value) as num\n",
    "   FROM (SELECT key, value FROM nodes_tags UNION ALL SELECT key, value FROM ways_tags) tags\n",
    "   WHERE tags.key = \"city\"\n",
    "   GROUP BY tags.value\n",
    "   ORDER BY num DESC;\n",
    "```"
   ]
  },
  {
   "cell_type": "code",
   "execution_count": 150,
   "metadata": {
    "collapsed": false
   },
   "outputs": [
    {
     "data": {
      "text/plain": [
       "[(u'Mumbai', 1454),\n",
       " (u'Navi Mumbai', 49),\n",
       " (u'Kharghar', 43),\n",
       " (u'Thane (West)', 38),\n",
       " (u'Thane', 33),\n",
       " (u'navi mumbai', 10),\n",
       " (u'kamothe, navi mumbai', 9),\n",
       " (u'Kurla West, Mumbai', 6),\n",
       " (u'Mulind (East)', 5),\n",
       " (u'Sanpada', 5)]"
      ]
     },
     "execution_count": 150,
     "metadata": {},
     "output_type": "execute_result"
    }
   ],
   "source": [
    "query2 = '''\n",
    "    SELECT tags.value, COUNT(tags.value) as num\n",
    "    FROM (SELECT key, value FROM nodes_tags UNION ALL SELECT key, value FROM ways_tags) tags\n",
    "    WHERE tags.key = \"city\"\n",
    "    GROUP BY tags.value\n",
    "    ORDER BY num DESC\n",
    "    LIMIT 10;\n",
    "'''\n",
    "c.execute(query2)\n",
    "c.fetchall()"
   ]
  },
  {
   "cell_type": "markdown",
   "metadata": {},
   "source": [
    "## Overview of the dataset\n",
    "\n",
    "#### 1. File Sizes"
   ]
  },
  {
   "cell_type": "code",
   "execution_count": 151,
   "metadata": {
    "collapsed": false
   },
   "outputs": [
    {
     "name": "stdout",
     "output_type": "stream",
     "text": [
      "mumbai_india.osm: 422.77 MB\n",
      "Mumbai.db: 283.06 MB\n",
      "nodes.csv: 171.22 MB\n",
      "nodes_tags.csv: 1.88 MB\n",
      "ways.csv: 17.44 MB\n",
      "ways_tags.csv: 10.84 MB\n",
      "ways_nodes.csv: 58.76 MB\n"
     ]
    }
   ],
   "source": [
    "print \"mumbai_india.osm:\", round(os.stat('mumbai_india.osm').st_size/float(1000000),2), \"MB\" #Change Sample here t mumbai.osm\n",
    "print \"Mumbai.db:\", round(os.stat('Mumbai').st_size/float(1000000),2), \"MB\"\n",
    "print \"nodes.csv:\", round(os.stat('nodes.csv').st_size/float(1000000),2), \"MB\"\n",
    "print \"nodes_tags.csv:\", round(os.stat('nodes_tags.csv').st_size/float(1000000),2), \"MB\"\n",
    "print \"ways.csv:\", round(os.stat('ways.csv').st_size/float(1000000),2), \"MB\"\n",
    "print \"ways_tags.csv:\", round(os.stat('ways_tags.csv').st_size/float(1000000),2), \"MB\"\n",
    "print \"ways_nodes.csv:\", round(os.stat('ways_nodes.csv').st_size/float(1000000),2), \"MB\""
   ]
  },
  {
   "cell_type": "markdown",
   "metadata": {
    "collapsed": true
   },
   "source": [
    "#### 2. Number of unique users"
   ]
  },
  {
   "cell_type": "code",
   "execution_count": 152,
   "metadata": {
    "collapsed": false
   },
   "outputs": [
    {
     "name": "stdout",
     "output_type": "stream",
     "text": [
      "number of distinct users are: 1411\n"
     ]
    }
   ],
   "source": [
    "query3 = '''\n",
    "    SELECT DISTINCT COUNT(tags.user)\n",
    "    FROM (SELECT user FROM nodes UNION SELECT user FROM ways) tags; \n",
    "'''\n",
    "c.execute(query3)\n",
    "print \"number of distinct users are:\", c.fetchall()[0][0]"
   ]
  },
  {
   "cell_type": "markdown",
   "metadata": {},
   "source": [
    "#### 3. Number of nodes and ways"
   ]
  },
  {
   "cell_type": "code",
   "execution_count": 153,
   "metadata": {
    "collapsed": false
   },
   "outputs": [
    {
     "name": "stdout",
     "output_type": "stream",
     "text": [
      "number of nodes are: 2029610\n",
      "number of ways are: 281693\n"
     ]
    }
   ],
   "source": [
    "query4 = \"SELECT COUNT(*) FROM nodes\"\n",
    "query5 = \"SELECT COUNT(*) FROM ways\"\n",
    "c.execute(query4)\n",
    "print \"number of nodes are:\", c.fetchall()[0][0]\n",
    "c.execute(query5)\n",
    "print \"number of ways are:\", c.fetchall()[0][0]"
   ]
  },
  {
   "cell_type": "markdown",
   "metadata": {},
   "source": [
    "#### 4. Number of resturants and clinics"
   ]
  },
  {
   "cell_type": "code",
   "execution_count": 154,
   "metadata": {
    "collapsed": false
   },
   "outputs": [
    {
     "name": "stdout",
     "output_type": "stream",
     "text": [
      "number of clinic = 35\n",
      "number of restaurant = 341\n"
     ]
    }
   ],
   "source": [
    "query6 = '''\n",
    "        SELECT nodes_tags.value, count(nodes_tags.value) as num\n",
    "        FROM nodes_tags\n",
    "        WHERE nodes_tags.value = \"restaurant\" OR nodes_tags.value = \"clinic\"\n",
    "        GROUP BY nodes_tags.value\n",
    "'''\n",
    "c.execute(query6)\n",
    "for i in c.fetchall():\n",
    "    print \"number of\", i[0], \"=\",i[1]"
   ]
  },
  {
   "cell_type": "markdown",
   "metadata": {},
   "source": [
    "## Some important statistics on users"
   ]
  },
  {
   "cell_type": "code",
   "execution_count": 155,
   "metadata": {
    "collapsed": false
   },
   "outputs": [
    {
     "data": {
      "text/html": [
       "<div>\n",
       "<table border=\"1\" class=\"dataframe\">\n",
       "  <thead>\n",
       "    <tr style=\"text-align: right;\">\n",
       "      <th></th>\n",
       "      <th>Percentage</th>\n",
       "    </tr>\n",
       "    <tr>\n",
       "      <th>0</th>\n",
       "      <th></th>\n",
       "    </tr>\n",
       "  </thead>\n",
       "  <tbody>\n",
       "    <tr>\n",
       "      <th>anushap</th>\n",
       "      <td>3.229650</td>\n",
       "    </tr>\n",
       "    <tr>\n",
       "      <th>PlaneMad</th>\n",
       "      <td>3.222944</td>\n",
       "    </tr>\n",
       "    <tr>\n",
       "      <th>parambyte</th>\n",
       "      <td>3.138533</td>\n",
       "    </tr>\n",
       "    <tr>\n",
       "      <th>Ashok09</th>\n",
       "      <td>2.840303</td>\n",
       "    </tr>\n",
       "    <tr>\n",
       "      <th>premkumar</th>\n",
       "      <td>2.722317</td>\n",
       "    </tr>\n",
       "    <tr>\n",
       "      <th>Srikanth07</th>\n",
       "      <td>2.632887</td>\n",
       "    </tr>\n",
       "    <tr>\n",
       "      <th>Narsimulu</th>\n",
       "      <td>2.583132</td>\n",
       "    </tr>\n",
       "    <tr>\n",
       "      <th>sampath reddy</th>\n",
       "      <td>2.401286</td>\n",
       "    </tr>\n",
       "    <tr>\n",
       "      <th>Naresh08</th>\n",
       "      <td>2.393152</td>\n",
       "    </tr>\n",
       "    <tr>\n",
       "      <th>ravikumar1</th>\n",
       "      <td>2.209317</td>\n",
       "    </tr>\n",
       "  </tbody>\n",
       "</table>\n",
       "</div>"
      ],
      "text/plain": [
       "               Percentage\n",
       "0                        \n",
       "anushap          3.229650\n",
       "PlaneMad         3.222944\n",
       "parambyte        3.138533\n",
       "Ashok09          2.840303\n",
       "premkumar        2.722317\n",
       "Srikanth07       2.632887\n",
       "Narsimulu        2.583132\n",
       "sampath reddy    2.401286\n",
       "Naresh08         2.393152\n",
       "ravikumar1       2.209317"
      ]
     },
     "execution_count": 155,
     "metadata": {},
     "output_type": "execute_result"
    }
   ],
   "source": [
    "query7 = '''\n",
    "    SELECT tags.user, COUNT(tags.user) as num\n",
    "    FROM (SELECT user FROM nodes UNION ALL SELECT user FROM ways) tags\n",
    "    GROUP BY tags.user\n",
    "    ORDER BY num DESC; \n",
    "'''\n",
    "c.execute(query7)\n",
    "df=pd.DataFrame(c.fetchall())\n",
    "df = df.set_index(df[0])\n",
    "df = df.drop(0,1)\n",
    "df[1]=df[1]/df[1].sum(axis=0)*100\n",
    "df = df.rename(columns={ 1: \"Percentage\"})\n",
    "df.head(10)"
   ]
  },
  {
   "cell_type": "markdown",
   "metadata": {},
   "source": [
    "* 27.37% of the total posts were contributed by the top 10 users.\n",
    "* The highest user conrtibuted 3.23% of the total posts, the second highest user contributed 3.22% of total posts.\n",
    "* The distribtion of the posts does not indicate any kind of involvment of bots."
   ]
  },
  {
   "cell_type": "markdown",
   "metadata": {},
   "source": [
    "## Other ideas about the datasets"
   ]
  },
  {
   "cell_type": "markdown",
   "metadata": {},
   "source": [
    "#### Top 10 appearing amenities\n",
    "\n",
    "```sql\n",
    "    SELECT value, COUNT(*) as num\n",
    "    FROM nodes_tags\n",
    "    WHERE key='amenity'\n",
    "    GROUP BY value\n",
    "    ORDER BY num DESC\n",
    "    LIMIT 10;\n",
    "```"
   ]
  },
  {
   "cell_type": "code",
   "execution_count": 156,
   "metadata": {
    "collapsed": false
   },
   "outputs": [
    {
     "data": {
      "text/plain": [
       "[(u'restaurant', 341),\n",
       " (u'place_of_worship', 287),\n",
       " (u'bank', 269),\n",
       " (u'cafe', 133),\n",
       " (u'school', 118),\n",
       " (u'fast_food', 110),\n",
       " (u'atm', 103),\n",
       " (u'fuel', 102),\n",
       " (u'hospital', 101),\n",
       " (u'toilets', 76)]"
      ]
     },
     "execution_count": 156,
     "metadata": {},
     "output_type": "execute_result"
    }
   ],
   "source": [
    "query8 = '''\n",
    "    SELECT value, COUNT(*) as num\n",
    "    FROM nodes_tags\n",
    "    WHERE key='amenity'\n",
    "    GROUP BY value\n",
    "    ORDER BY num DESC\n",
    "    LIMIT 10 \n",
    "'''\n",
    "c.execute(query8)\n",
    "c.fetchall()"
   ]
  },
  {
   "cell_type": "markdown",
   "metadata": {},
   "source": [
    "#### Religions in Mumbai\n",
    "\n",
    "```sql\n",
    "    SELECT value, COUNT(*) as num\n",
    "    FROM nodes_tags\n",
    "    WHERE key='amenity'\n",
    "    GROUP BY value\n",
    "    ORDER BY num DESC\n",
    "    LIMIT 10;\n",
    "```"
   ]
  },
  {
   "cell_type": "code",
   "execution_count": 157,
   "metadata": {
    "collapsed": false
   },
   "outputs": [
    {
     "data": {
      "text/plain": [
       "[(u'hindu', 109),\n",
       " (u'muslim', 69),\n",
       " (u'christian', 34),\n",
       " (u'buddhist', 13),\n",
       " (u'jain', 6),\n",
       " (u'sikh', 4),\n",
       " (u'zoroastrian', 2),\n",
       " (u'jewish', 1)]"
      ]
     },
     "execution_count": 157,
     "metadata": {},
     "output_type": "execute_result"
    }
   ],
   "source": [
    "query9 = '''\n",
    "    SELECT nodes_tags.value, COUNT(*) as num\n",
    "    FROM nodes_tags \n",
    "    JOIN (SELECT DISTINCT(id) FROM nodes_tags WHERE value='place_of_worship') i\n",
    "    ON nodes_tags.id=i.id\n",
    "    WHERE nodes_tags.key='religion'\n",
    "    GROUP BY nodes_tags.value\n",
    "    ORDER BY num DESC;\n",
    "'''\n",
    "c.execute(query9)\n",
    "c.fetchall()"
   ]
  },
  {
   "cell_type": "markdown",
   "metadata": {},
   "source": [
    "# Conclusions\n",
    "Throughout this report and project at large, an effort has been made to clean the data and develop insights out of this cleaned data. Though no claims are made that the data wrangling and data cleaning being performed is perfect, an adequate attempt is made. From the analysis we find that a high percetage of the data was human edited and a huge number of users have contributed to building up this data, this could be a potential reason for such poor quality of data. The data further has also been accumulated through a lot of different sources and this has in particular further deteriortaed the data quality. Through certain checks at the data collection stage itsself the data quality can be imporved manifolds, and also through certain enhanced analytical tools and techniques the data can be analyzed more efficiently."
   ]
  },
  {
   "cell_type": "code",
   "execution_count": null,
   "metadata": {
    "collapsed": true
   },
   "outputs": [],
   "source": []
  }
 ],
 "metadata": {
  "kernelspec": {
   "display_name": "Python 2",
   "language": "python",
   "name": "python2"
  },
  "language_info": {
   "codemirror_mode": {
    "name": "ipython",
    "version": 2
   },
   "file_extension": ".py",
   "mimetype": "text/x-python",
   "name": "python",
   "nbconvert_exporter": "python",
   "pygments_lexer": "ipython2",
   "version": "2.7.11"
  }
 },
 "nbformat": 4,
 "nbformat_minor": 0
}
